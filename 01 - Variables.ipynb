{
 "cells": [
  {
   "cell_type": "markdown",
   "id": "0ca22676",
   "metadata": {},
   "source": [
    "# Basics in Julia\n",
    "\n",
    "Feel free to run, add comments, modify, and experiment with the examples in this document! When in doubt for something, you can look in the documentation by using the command ? followed by the name of the function you are looking for. The other option is Googling you problem. We always do that when programming, as there are so many possible errors, and the error messages are not always clear. We will probably do that often as well!\n",
    "\n",
    "To run a cell, click on the cell and press enter."
   ]
  },
  {
   "cell_type": "code",
   "execution_count": 44,
   "id": "b78b3abe",
   "metadata": {},
   "outputs": [
    {
     "ename": "Base.Meta.ParseError",
     "evalue": "ParseError:\n# Error @ /Users/felixreichel/Desktop/JuliaStuff_24_25/jl_notebook_cell_df34fa98e69747e1a8f8a730347b8e2f_W1sZmlsZQ==.jl:1:1\n?typeof # search for the function typeof in the documentation\n╙ ── not a unary operator",
     "output_type": "error",
     "traceback": [
      "ParseError:\n",
      "# Error @ /Users/felixreichel/Desktop/JuliaStuff_24_25/jl_notebook_cell_df34fa98e69747e1a8f8a730347b8e2f_W1sZmlsZQ==.jl:1:1\n",
      "?typeof # search for the function typeof in the documentation\n",
      "╙ ── not a unary operator\n",
      "\n",
      "Stacktrace:\n",
      " [1] top-level scope\n",
      "   @ ~/Desktop/JuliaStuff_24_25/jl_notebook_cell_df34fa98e69747e1a8f8a730347b8e2f_W1sZmlsZQ==.jl:1"
     ]
    }
   ],
   "source": [
    "?typeof # search for the function typeof in the documentation"
   ]
  },
  {
   "cell_type": "markdown",
   "id": "90d142b0",
   "metadata": {},
   "source": [
    "* Note: # indicates comments. Anything coming after # is ignored by the compiler, and is just there for the reader. You can make comments over multiple lines using #= some comments blablabla =#"
   ]
  },
  {
   "cell_type": "code",
   "execution_count": 2,
   "id": "81978d3f",
   "metadata": {},
   "outputs": [],
   "source": [
    "# this is a comment over one line\n",
    "\n",
    "#= this is\n",
    "a comment\n",
    "over multiple\n",
    "lines =#"
   ]
  },
  {
   "cell_type": "markdown",
   "id": "372abc8f",
   "metadata": {},
   "source": [
    "### Variables, types, and prints\n",
    "\n",
    "To assign a value to a variable, simply use the operator =."
   ]
  },
  {
   "cell_type": "code",
   "execution_count": 3,
   "id": "81209b21",
   "metadata": {},
   "outputs": [
    {
     "data": {
      "text/plain": [
       "44000"
      ]
     },
     "metadata": {},
     "output_type": "display_data"
    }
   ],
   "source": [
    "zipcode = 44000"
   ]
  },
  {
   "cell_type": "code",
   "execution_count": 4,
   "id": "a1b54d94",
   "metadata": {},
   "outputs": [
    {
     "data": {
      "text/plain": [
       "29.95"
      ]
     },
     "metadata": {},
     "output_type": "display_data"
    }
   ],
   "source": [
    "price = 29.95"
   ]
  },
  {
   "cell_type": "code",
   "execution_count": 5,
   "id": "403a880e",
   "metadata": {},
   "outputs": [
    {
     "data": {
      "text/plain": [
       "true"
      ]
     },
     "metadata": {},
     "output_type": "display_data"
    }
   ],
   "source": [
    "positive = true"
   ]
  },
  {
   "cell_type": "code",
   "execution_count": 6,
   "id": "1a58abab",
   "metadata": {},
   "outputs": [
    {
     "data": {
      "text/plain": [
       "\"Hi\""
      ]
     },
     "metadata": {},
     "output_type": "display_data"
    }
   ],
   "source": [
    "text = \"Hi\""
   ]
  },
  {
   "cell_type": "markdown",
   "id": "6773493e",
   "metadata": {},
   "source": [
    "You can assign any type of value to a variable, and Julia will figure out the type of the variable itself.\n",
    "\n",
    "* Int or Int64 for a number with no decimals\n",
    "\n",
    "* Float64 for a number with decimals\n",
    "\n",
    "* Bool for true or false\n",
    "\n",
    "* String for text in quotation marks\n",
    "\n",
    "* Ect...\n",
    "\n",
    "If you change the type of value assigned to a variable, the type of the variable will be updated as well. To see what is the type of a variable, you can use the function `typeof`."
   ]
  },
  {
   "cell_type": "code",
   "execution_count": 7,
   "id": "3323f662",
   "metadata": {},
   "outputs": [
    {
     "data": {
      "text/plain": [
       "Int64"
      ]
     },
     "metadata": {},
     "output_type": "display_data"
    }
   ],
   "source": [
    "zipcode = 44000 # this is integer\n",
    "typeof(zipcode)"
   ]
  },
  {
   "cell_type": "code",
   "execution_count": 8,
   "id": "a6c9df11",
   "metadata": {},
   "outputs": [
    {
     "name": "stdout",
     "output_type": "stream",
     "text": [
      "price has type Float64\n",
      "price now has type String\n"
     ]
    }
   ],
   "source": [
    "price = 29.95 # this is a float\n",
    "println(\"price has type \", typeof(price))\n",
    "\n",
    "price = \"29.95\" # this is a string\n",
    "println(\"price now has type \", typeof(price))"
   ]
  },
  {
   "cell_type": "markdown",
   "id": "d6214c0f",
   "metadata": {},
   "source": [
    "* Note: use println() to print stuff. Separate each element with a coma. By default, a line a skipped at the end of the line, but you can use \\n to skip additional lines. You can use print() if you do not want a line skip at the end. "
   ]
  },
  {
   "cell_type": "code",
   "execution_count": 9,
   "id": "d6640955",
   "metadata": {},
   "outputs": [
    {
     "name": "stdout",
     "output_type": "stream",
     "text": [
      "The default way to print stuff\n",
      "We can also choose to skip \n",
      "additional \n",
      "\n",
      "lines \n",
      "\n",
      "\n",
      "!!\n",
      "Or not skip lines at all."
     ]
    }
   ],
   "source": [
    "println(\"The default way to print stuff\")\n",
    "\n",
    "println(\"We can also choose to skip \\nadditional \\n\\nlines \\n\\n\\n!!\")\n",
    "\n",
    "print(\"Or not skip lines \")\n",
    "print(\"at all.\")"
   ]
  },
  {
   "cell_type": "markdown",
   "id": "34b1cb9b",
   "metadata": {},
   "source": [
    "There are some special characters in Strings that require special treatment (e.g. \\ or $). Simply add a backslash before the special character to get the desired output."
   ]
  },
  {
   "cell_type": "code",
   "execution_count": 10,
   "id": "cfd54de4",
   "metadata": {},
   "outputs": [
    {
     "ename": "Base.Meta.ParseError",
     "evalue": "ParseError:\n# Error @ /Users/felixreichel/Desktop/JuliaStuff_24_25/jl_notebook_cell_df34fa98e69747e1a8f8a730347b8e2f_X21sZmlsZQ==.jl:1:23\nprintln(\"Let's try \\\")\n#                     └ ── unterminated string literal",
     "output_type": "error",
     "traceback": [
      "ParseError:\n",
      "# Error @ /Users/felixreichel/Desktop/JuliaStuff_24_25/jl_notebook_cell_df34fa98e69747e1a8f8a730347b8e2f_X21sZmlsZQ==.jl:1:23\n",
      "println(\"Let's try \\\")\n",
      "#                     └ ── unterminated string literal\n",
      "\n",
      "Stacktrace:\n",
      " [1] top-level scope\n",
      "   @ ~/Desktop/JuliaStuff_24_25/jl_notebook_cell_df34fa98e69747e1a8f8a730347b8e2f_X21sZmlsZQ==.jl:1"
     ]
    }
   ],
   "source": [
    "println(\"Let's try \\\")"
   ]
  },
  {
   "cell_type": "code",
   "execution_count": 11,
   "id": "51734f24",
   "metadata": {},
   "outputs": [
    {
     "name": "stdout",
     "output_type": "stream",
     "text": [
      "Let's try \\\n"
     ]
    }
   ],
   "source": [
    "println(\"Let's try \\\\\")"
   ]
  },
  {
   "cell_type": "markdown",
   "id": "59af1c6d",
   "metadata": {},
   "source": [
    "**Exercise 1**\n",
    "\n",
    "1. Look up the julia documentation for the `convert` function.\n",
    "\n",
    "2. Assign the value *24* to a variable named `hours`. Convert `hours` to a float and assign it to variable `hours_float`\n",
    "\n",
    "3. See what happens when you execute (understand each command and the error when it occurs):\n",
    "    * `convert(Float64,2)`\n",
    "    * `convert(Int64,2.0)`\n",
    "    * `convert(Int64,2.8)`\n",
    "    * `convert(Int64,round(2.8))`\n"
   ]
  },
  {
   "cell_type": "code",
   "execution_count": 12,
   "id": "de047815",
   "metadata": {},
   "outputs": [],
   "source": [
    "# Question 1\n"
   ]
  },
  {
   "cell_type": "code",
   "execution_count": 13,
   "id": "fa5198a3",
   "metadata": {},
   "outputs": [],
   "source": [
    "# Question 2\n"
   ]
  },
  {
   "cell_type": "code",
   "execution_count": 14,
   "id": "0dbaf644",
   "metadata": {},
   "outputs": [],
   "source": [
    "# Question 3\n"
   ]
  },
  {
   "cell_type": "markdown",
   "id": "7d130357",
   "metadata": {},
   "source": [
    "### Basic math\n",
    "\n",
    "Here is a list of basic operators for numbers:"
   ]
  },
  {
   "cell_type": "code",
   "execution_count": 15,
   "id": "ecd94919",
   "metadata": {},
   "outputs": [
    {
     "data": {
      "text/plain": [
       "3"
      ]
     },
     "metadata": {},
     "output_type": "display_data"
    }
   ],
   "source": [
    "a = 8\n",
    "b = 3"
   ]
  },
  {
   "cell_type": "code",
   "execution_count": 16,
   "id": "fc4fd291",
   "metadata": {},
   "outputs": [
    {
     "name": "stdout",
     "output_type": "stream",
     "text": [
      "-a is -8\n"
     ]
    }
   ],
   "source": [
    "# unary minus\n",
    "c = -a\n",
    "println(\"-a is \", c)"
   ]
  },
  {
   "cell_type": "code",
   "execution_count": 17,
   "id": "3f2be8f8",
   "metadata": {},
   "outputs": [
    {
     "name": "stdout",
     "output_type": "stream",
     "text": [
      "The sum of 8 and 3 is 11\n"
     ]
    }
   ],
   "source": [
    "# sum\n",
    "c = a + b\n",
    "println(\"The sum of \", a, \" and \", b, \" is \", c)"
   ]
  },
  {
   "cell_type": "code",
   "execution_count": 18,
   "id": "8b2239a8",
   "metadata": {},
   "outputs": [
    {
     "name": "stdout",
     "output_type": "stream",
     "text": [
      "The difference between 8 and 3 is 5\n"
     ]
    }
   ],
   "source": [
    "# difference\n",
    "c = a - b\n",
    "println(\"The difference between \", a, \" and \", b, \" is \", c)"
   ]
  },
  {
   "cell_type": "code",
   "execution_count": 19,
   "id": "ce2c9914",
   "metadata": {},
   "outputs": [
    {
     "name": "stdout",
     "output_type": "stream",
     "text": [
      "The product of 8 and 3 is 24\n"
     ]
    }
   ],
   "source": [
    "# product\n",
    "c = a * b\n",
    "println(\"The product of \", a, \" and \", b, \" is \", c)"
   ]
  },
  {
   "cell_type": "code",
   "execution_count": 20,
   "id": "01213798",
   "metadata": {},
   "outputs": [
    {
     "name": "stdout",
     "output_type": "stream",
     "text": [
      "8 divided by 3 equals 2.6666666666666665\n"
     ]
    }
   ],
   "source": [
    "# division\n",
    "c = a / b\n",
    "println(a, \" divided by \", b , \" equals \", c)"
   ]
  },
  {
   "cell_type": "code",
   "execution_count": 21,
   "id": "c12e6d19",
   "metadata": {},
   "outputs": [
    {
     "name": "stdout",
     "output_type": "stream",
     "text": [
      "3 to the power of 8 equals 6561\n"
     ]
    }
   ],
   "source": [
    "# power\n",
    "c = b ^ a\n",
    "println(b, \" to the power of \", a, \" equals \", c)"
   ]
  },
  {
   "cell_type": "code",
   "execution_count": 22,
   "id": "80385353",
   "metadata": {},
   "outputs": [
    {
     "name": "stdout",
     "output_type": "stream",
     "text": [
      "The integer divison of 8 and 3 is 2\n"
     ]
    }
   ],
   "source": [
    "# integer division\n",
    "c = a ÷ b # to make the ÷ symbol, type \\div and press Tab\n",
    "println(\"The integer divison of \", a, \" and \", b, \" is \", c)\n",
    "\n",
    "# Note: look for the function div in the documentation if this does not work"
   ]
  },
  {
   "cell_type": "code",
   "execution_count": 23,
   "id": "2610d4a9",
   "metadata": {},
   "outputs": [
    {
     "name": "stdout",
     "output_type": "stream",
     "text": [
      "8 modulo 3 equals 2\n"
     ]
    }
   ],
   "source": [
    "# modulus\n",
    "c = a % b\n",
    "println(a, \" modulo \", b , \" equals \", c)"
   ]
  },
  {
   "cell_type": "markdown",
   "id": "80f5e7de",
   "metadata": {},
   "source": [
    "You can update the variables with the above operator using the operator followed by =\n",
    "\n",
    "For example:"
   ]
  },
  {
   "cell_type": "code",
   "execution_count": 24,
   "id": "c997b676",
   "metadata": {},
   "outputs": [
    {
     "name": "stdout",
     "output_type": "stream",
     "text": [
      "a = 5\n",
      "a = 6\n"
     ]
    }
   ],
   "source": [
    "a = 5\n",
    "println(\"a = \", a)\n",
    "\n",
    "a += 1 # equivalent to a = a + 1\n",
    "println(\"a = \", a)\n",
    "\n",
    "# note a++ does not work in Julia"
   ]
  },
  {
   "cell_type": "code",
   "execution_count": 25,
   "id": "5001e6a4",
   "metadata": {},
   "outputs": [
    {
     "name": "stdout",
     "output_type": "stream",
     "text": [
      "a = 3\n",
      "b = 4\n",
      "\n",
      "a = 12\n",
      "b = 4\n"
     ]
    }
   ],
   "source": [
    "a = 3\n",
    "b = 4\n",
    "println(\"a = \", a)\n",
    "println(\"b = \", b)\n",
    "\n",
    "a *= b # equivalent to a = a * b\n",
    "println(\"\\na = \", a)\n",
    "println(\"b = \", b) # b is unchanged"
   ]
  },
  {
   "cell_type": "code",
   "execution_count": 26,
   "id": "fe694f12",
   "metadata": {},
   "outputs": [],
   "source": [
    "# feel free to try some more here\n"
   ]
  },
  {
   "cell_type": "markdown",
   "id": "56d1f5f3",
   "metadata": {},
   "source": [
    "Many math functions are available in Julia. Here are a few examples (if in doubt of what it does exactly, you can always use the documentation):"
   ]
  },
  {
   "cell_type": "code",
   "execution_count": 27,
   "id": "db239084",
   "metadata": {},
   "outputs": [
    {
     "data": {
      "text/plain": [
       "5.4"
      ]
     },
     "metadata": {},
     "output_type": "display_data"
    }
   ],
   "source": [
    "# absolute value\n",
    "x = -5.4\n",
    "abs(x)"
   ]
  },
  {
   "cell_type": "code",
   "execution_count": 28,
   "id": "56738b79",
   "metadata": {},
   "outputs": [
    {
     "name": "stdout",
     "output_type": "stream",
     "text": [
      "-1.0\n",
      "1.0\n"
     ]
    }
   ],
   "source": [
    "# sign: indicate the sign of a number\n",
    "x = -5.4\n",
    "println(sign(x))\n",
    "println(sign(abs(x)))"
   ]
  },
  {
   "cell_type": "code",
   "execution_count": 29,
   "id": "e14cda0c",
   "metadata": {},
   "outputs": [
    {
     "data": {
      "text/plain": [
       "4.0"
      ]
     },
     "metadata": {},
     "output_type": "display_data"
    }
   ],
   "source": [
    "# square root\n",
    "x = 16\n",
    "sqrt(x)"
   ]
  },
  {
   "cell_type": "code",
   "execution_count": 30,
   "id": "2970e348",
   "metadata": {},
   "outputs": [
    {
     "data": {
      "text/plain": [
       "120"
      ]
     },
     "metadata": {},
     "output_type": "display_data"
    }
   ],
   "source": [
    "# factorial\n",
    "x = 5\n",
    "factorial(5)"
   ]
  },
  {
   "cell_type": "code",
   "execution_count": 31,
   "id": "41da12ad",
   "metadata": {},
   "outputs": [
    {
     "name": "stdout",
     "output_type": "stream",
     "text": [
      "5.0\n",
      "Float64\n",
      "5\n",
      "Int64\n"
     ]
    }
   ],
   "source": [
    "# floor\n",
    "x = 5.6\n",
    "\n",
    "println(floor(x))\n",
    "println(typeof(floor(x)))\n",
    "\n",
    "println(floor(Int64, x))\n",
    "println(typeof(floor(Int64, x)))"
   ]
  },
  {
   "cell_type": "code",
   "execution_count": 32,
   "id": "fd53fc2d",
   "metadata": {},
   "outputs": [
    {
     "name": "stdout",
     "output_type": "stream",
     "text": [
      "6.0\n",
      "Float64\n",
      "6\n",
      "Int64\n"
     ]
    }
   ],
   "source": [
    "# ceil\n",
    "x = 5.6\n",
    "\n",
    "println(ceil(x))\n",
    "println(typeof(ceil(x)))\n",
    "\n",
    "println(ceil(Int64, x))\n",
    "println(typeof(ceil(Int64, x)))"
   ]
  },
  {
   "cell_type": "markdown",
   "id": "4417f76f",
   "metadata": {},
   "source": [
    "**Exercise 2**\n",
    "\n",
    "The inflation rate is calculated with the following formula that allows to see the percentage of increase or decrease in cost between given years:\n",
    "\n",
    "$R = \\frac{B-A}{A} \\times 100$\n",
    "\n",
    "where \n",
    "$A$ is the starting cost\n",
    "$B$ is the ending cost.\n",
    "\n",
    "For example, if the price for 1 liter of SP95 in April 2022 is 2.07€ and 1.49€ in April 2021, the inflation rate is:\n",
    "\n",
    "$R = 38.926174496644286\\%$\n",
    "\n",
    "1. Compute the value of $R$ when $A$ = 1.49€ and $B$ = 2.07€\n",
    "\n",
    "2. Convert in US dollars the previous value provided in euros (1€ = 1.08USD)\n",
    "\n",
    "3. Display the rounded result with exactly 2 digits after the decimal point and preceded by the  symbol `$`\n",
    "    * Note 1: See function `round`\n",
    "    * Note 2: `$` is a special character in Julia"
   ]
  },
  {
   "cell_type": "code",
   "execution_count": 33,
   "id": "9f00640a",
   "metadata": {},
   "outputs": [],
   "source": [
    "# Question 1\n"
   ]
  },
  {
   "cell_type": "code",
   "execution_count": 34,
   "id": "4d949a7a",
   "metadata": {},
   "outputs": [],
   "source": [
    "# Question 2 & 3\n"
   ]
  },
  {
   "cell_type": "markdown",
   "id": "c025d696",
   "metadata": {},
   "source": [
    "**Exercise 3**\n",
    "\n",
    "The variable `time_in_minutes` is a time given in minutes. Your task is to convert it into hours, minutes, and seconds. Then, display the result."
   ]
  },
  {
   "cell_type": "code",
   "execution_count": 35,
   "id": "93c8aaf0",
   "metadata": {},
   "outputs": [
    {
     "data": {
      "text/plain": [
       "122.5"
      ]
     },
     "metadata": {},
     "output_type": "display_data"
    }
   ],
   "source": [
    "time_in_minutes = 122.5\n",
    "\n",
    "# Your code here\n"
   ]
  },
  {
   "cell_type": "markdown",
   "id": "4a2d0007",
   "metadata": {},
   "source": [
    "Finaly, similarly to many other programming languages, you can compare numbers / variables using the following operators:"
   ]
  },
  {
   "cell_type": "code",
   "execution_count": 36,
   "id": "7b1c0870",
   "metadata": {},
   "outputs": [
    {
     "name": "stdout",
     "output_type": "stream",
     "text": [
      "3 is equal to 3 : true\n",
      "3 is different from 3 : false\n",
      "3 is strictly less than 3 : false\n",
      "3 is less or equal to 3 : true\n",
      "3 is strictly greater than 3 : false\n",
      "3 is greater or equal to 3 : true\n"
     ]
    }
   ],
   "source": [
    "a = 3\n",
    "b = 3\n",
    "\n",
    "# equality\n",
    "println(a, \" is equal to \", b, \" : \", a == b)\n",
    "\n",
    "# inequality\n",
    "println(a, \" is different from \", b, \" : \", a != b)\n",
    "\n",
    "# less than\n",
    "println(a, \" is strictly less than \", b, \" : \", a < b)\n",
    "\n",
    "# less than or equal\n",
    "println(a, \" is less or equal to \", b, \" : \", a <= b)\n",
    "\n",
    "# greater than\n",
    "println(a, \" is strictly greater than \", b, \" : \", a > b)\n",
    "\n",
    "# greater than or equal\n",
    "println(a, \" is greater or equal to \", b, \" : \", a >= b)"
   ]
  },
  {
   "cell_type": "markdown",
   "id": "09f849e0",
   "metadata": {},
   "source": [
    "You are not limited to numbers for comparisons!"
   ]
  },
  {
   "cell_type": "code",
   "execution_count": 37,
   "id": "c87e8f1d",
   "metadata": {},
   "outputs": [
    {
     "data": {
      "text/plain": [
       "false"
      ]
     },
     "metadata": {},
     "output_type": "display_data"
    }
   ],
   "source": [
    "\"Hi\" == \"everyone\""
   ]
  },
  {
   "cell_type": "code",
   "execution_count": 38,
   "id": "5f4061ef",
   "metadata": {},
   "outputs": [
    {
     "data": {
      "text/plain": [
       "true"
      ]
     },
     "metadata": {},
     "output_type": "display_data"
    }
   ],
   "source": [
    "\"bip\" == \"bip\""
   ]
  },
  {
   "cell_type": "code",
   "execution_count": 39,
   "id": "dd7e68c2",
   "metadata": {},
   "outputs": [
    {
     "data": {
      "text/plain": [
       "false"
      ]
     },
     "metadata": {},
     "output_type": "display_data"
    }
   ],
   "source": [
    "true == false"
   ]
  },
  {
   "cell_type": "code",
   "execution_count": 40,
   "id": "cf9aea7a",
   "metadata": {},
   "outputs": [
    {
     "data": {
      "text/plain": [
       "false"
      ]
     },
     "metadata": {},
     "output_type": "display_data"
    }
   ],
   "source": [
    "true == \"hi\""
   ]
  },
  {
   "cell_type": "code",
   "execution_count": 41,
   "id": "b28cc2a6",
   "metadata": {},
   "outputs": [
    {
     "data": {
      "text/plain": [
       "true"
      ]
     },
     "metadata": {},
     "output_type": "display_data"
    }
   ],
   "source": [
    "true == 1 # careful, true is equivalent to 1"
   ]
  },
  {
   "cell_type": "code",
   "execution_count": 42,
   "id": "691a0fcc",
   "metadata": {},
   "outputs": [
    {
     "data": {
      "text/plain": [
       "true"
      ]
     },
     "metadata": {},
     "output_type": "display_data"
    }
   ],
   "source": [
    "false == 0 # ... and false is equivalent to 0"
   ]
  },
  {
   "cell_type": "code",
   "execution_count": 43,
   "id": "3a3f4025",
   "metadata": {},
   "outputs": [],
   "source": [
    "# feel free to experiment more stuff here\n"
   ]
  }
 ],
 "metadata": {
  "kernelspec": {
   "display_name": "Julia 1.10.0",
   "language": "julia",
   "name": "julia-1.10"
  },
  "language_info": {
   "file_extension": ".jl",
   "mimetype": "application/julia",
   "name": "julia",
   "version": "1.10.0"
  }
 },
 "nbformat": 4,
 "nbformat_minor": 5
}
