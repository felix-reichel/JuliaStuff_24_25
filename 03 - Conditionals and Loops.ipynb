{
 "cells": [
  {
   "cell_type": "markdown",
   "id": "e54161b2",
   "metadata": {},
   "source": [
    "# Basics in Julia 3\n",
    "\n",
    "We heard about vectors and matrices, now let's talk about conditionals and loops.\n",
    "\n",
    "## 1. If statements\n",
    "\n",
    "The most basic **if** statement works as follows:\n",
    "\n",
    "**if** *condition*\n",
    "\n",
    "&nbsp;&nbsp;&nbsp;&nbsp;&nbsp;&nbsp; *instructions*\n",
    "    \n",
    "**end**\n",
    "\n",
    "Just like any other programming language, Julia expects a **boolean** value for the condition. If the condition is true, the instructions are executed. If the condition is false, the conditional is not entered and consequently, instructions are not executed."
   ]
  },
  {
   "cell_type": "code",
   "execution_count": 40,
   "id": "1881db27",
   "metadata": {},
   "outputs": [
    {
     "name": "stdout",
     "output_type": "stream",
     "text": [
      "Welcome to Linz\n"
     ]
    }
   ],
   "source": [
    "zipcode = 4020\n",
    "\n",
    "if zipcode == 4020\n",
    "    println(\"Welcome to Linz\")\n",
    "end"
   ]
  },
  {
   "cell_type": "markdown",
   "id": "d3b38ae6",
   "metadata": {},
   "source": [
    "* Note 1: the keywork `end` is also used to close all loops and functions in Julia.\n",
    "\n",
    "* Note 2: unlike in Python, the indent is not critical in loops. However, it is good practice to keep an indent for everything in a loop, a conditional, or a function. It makes the code so much easier to read - for others but also for you. So please, make sure you have a proper indent when programming!\n",
    "\n",
    "You can add instructions in case the condition is false as well, using `else`.\n",
    "\n",
    "**if** *condition*\n",
    "\n",
    "&nbsp;&nbsp;&nbsp;&nbsp;&nbsp;&nbsp; *instructions 1*\n",
    "\n",
    "**else**\n",
    "\n",
    "&nbsp;&nbsp;&nbsp;&nbsp;&nbsp;&nbsp; *instructions 2*\n",
    "    \n",
    "**end**"
   ]
  },
  {
   "cell_type": "code",
   "execution_count": 41,
   "id": "c6d93ca3",
   "metadata": {},
   "outputs": [
    {
     "name": "stdout",
     "output_type": "stream",
     "text": [
      "Welcome to Austria\n"
     ]
    }
   ],
   "source": [
    "zipcode = 4021\n",
    "\n",
    "if zipcode == 4020\n",
    "    println(\"Welcome to Linz\")\n",
    "else\n",
    "    println(\"Welcome to Austria\")\n",
    "end"
   ]
  },
  {
   "cell_type": "markdown",
   "id": "baa59b86",
   "metadata": {},
   "source": [
    "Finally, it is possible to add more conditions in the conditional using `elseif`.\n",
    "\n",
    "**if** *condition*\n",
    "\n",
    "&nbsp;&nbsp;&nbsp;&nbsp;&nbsp;&nbsp; *instructions 1*\n",
    "\n",
    "**elseif**\n",
    "\n",
    "&nbsp;&nbsp;&nbsp;&nbsp;&nbsp;&nbsp; *instructions 2*\n",
    "\n",
    "**elseif**\n",
    "\n",
    "&nbsp;&nbsp;&nbsp;&nbsp;&nbsp;&nbsp; ...\n",
    "\n",
    "**else**\n",
    "\n",
    "&nbsp;&nbsp;&nbsp;&nbsp;&nbsp;&nbsp; *instructions n*\n",
    "    \n",
    "**end**"
   ]
  },
  {
   "cell_type": "code",
   "execution_count": 42,
   "id": "e5be07af",
   "metadata": {},
   "outputs": [
    {
     "name": "stdout",
     "output_type": "stream",
     "text": [
      "Welcome to Linz North area\n"
     ]
    }
   ],
   "source": [
    "zipcode = 4040\n",
    "\n",
    "if zipcode == 4020\n",
    "    println(\"Welcome to Linz Central area\")\n",
    "elseif zipcode == 4030\n",
    "    println(\"Welcome to Linz South area\")\n",
    "elseif zipcode == 4040\n",
    "    println(\"Welcome to Linz North area\")\n",
    "else\n",
    "    println(\"Welcome to Austria\")\n",
    "end"
   ]
  },
  {
   "cell_type": "markdown",
   "id": "8629724e",
   "metadata": {},
   "source": [
    "There are a few useful operator that you can use in conditions:\n",
    "\n",
    "* `!`: not\n",
    "\n",
    "* `&&`: and\n",
    "\n",
    "* `||`: or"
   ]
  },
  {
   "cell_type": "code",
   "execution_count": 43,
   "id": "a8ddc44b",
   "metadata": {},
   "outputs": [
    {
     "name": "stdout",
     "output_type": "stream",
     "text": [
      "Welcome to the rest of the wold!\n"
     ]
    }
   ],
   "source": [
    "countrycode = \"BE\"\n",
    "zipcode = 4020\n",
    "\n",
    "if countrycode == \"AT\" && zipcode == 4020\n",
    "    println(\"Welcome to Linz\")\n",
    "else\n",
    "    println(\"Welcome to the rest of the wold!\")\n",
    "end"
   ]
  },
  {
   "cell_type": "markdown",
   "id": "259645a3",
   "metadata": {},
   "source": [
    "## 2. While loops\n",
    "\n",
    "The **while** loop executes the same instructions until the condition becomes false. In other words, as long as the condition is true. A **boolean** value is of course expected for the condition. It works as follows:\n",
    "\n",
    "**while** *condition*\n",
    "\n",
    "&nbsp;&nbsp;&nbsp;&nbsp;&nbsp;&nbsp; *instructions*\n",
    "\n",
    "**end**"
   ]
  },
  {
   "cell_type": "code",
   "execution_count": 44,
   "id": "a321362e",
   "metadata": {},
   "outputs": [
    {
     "name": "stdout",
     "output_type": "stream",
     "text": [
      "4020 4030 4040 "
     ]
    }
   ],
   "source": [
    "zipcode = 4020\n",
    "\n",
    "while zipcode <= 4040\n",
    "    print(zipcode, \" \")\n",
    "    zipcode += 10\n",
    "end"
   ]
  },
  {
   "cell_type": "markdown",
   "id": "5910a50a",
   "metadata": {},
   "source": [
    "Not much to say here, except to be careful about infinite loop! This happens when the condition never becomes false.\n",
    "\n",
    "## 3. For loops\n",
    "\n",
    "These loops are used to iterate over a collection of objects. There are different ways to make for loops:\n",
    "\n",
    "**for** *variable* **in** *collection*\n",
    "\n",
    "&nbsp;&nbsp;&nbsp;&nbsp;&nbsp;&nbsp; *instructions*\n",
    "\n",
    "**end**\n",
    "\n",
    "or, equivalently:\n",
    "\n",
    "**for** *variable* **=** *collection*\n",
    "\n",
    "&nbsp;&nbsp;&nbsp;&nbsp;&nbsp;&nbsp; *instructions*\n",
    "\n",
    "**end**\n",
    "\n",
    "`in` and `=` can be used and interchanged, they do exactly the same thing here.\n",
    "\n",
    "As we have seen in the previous chapter, a collection can be for example:\n",
    "\n",
    "* a range (`start:stop`, or `start:step:stop`)\n",
    "\n",
    "* a vector\n",
    "\n",
    "* a dictionary\n",
    "\n",
    "* a set\n",
    "\n",
    "* a tuple\n",
    "\n",
    "* a string (a string is a considered as a particular vector in Julia)"
   ]
  },
  {
   "cell_type": "code",
   "execution_count": 45,
   "id": "731d1b8c",
   "metadata": {},
   "outputs": [
    {
     "name": "stdout",
     "output_type": "stream",
     "text": [
      "1 2 3 4 5 6 7 8 9 10 "
     ]
    }
   ],
   "source": [
    "# from a range, using in\n",
    "\n",
    "for i in 1:10\n",
    "    print(i, \" \")\n",
    "end"
   ]
  },
  {
   "cell_type": "code",
   "execution_count": 46,
   "id": "a962c5b1",
   "metadata": {},
   "outputs": [
    {
     "name": "stdout",
     "output_type": "stream",
     "text": [
      "1 3 5 7 9 "
     ]
    }
   ],
   "source": [
    "# from a range with a step, using =\n",
    "\n",
    "for i = 1:2:10\n",
    "    print(i, \" \")\n",
    "end"
   ]
  },
  {
   "cell_type": "code",
   "execution_count": 47,
   "id": "d367e6b1",
   "metadata": {},
   "outputs": [
    {
     "name": "stdout",
     "output_type": "stream",
     "text": [
      "[3, 4, 5, 4, 5, 6, 5, 6, 7]\n",
      "3 4 5 4 5 6 5 6 7 "
     ]
    }
   ],
   "source": [
    "# from a vector\n",
    "\n",
    "v = [i + j for i in 1:3 for j in 2:4]\n",
    "println(v)\n",
    "\n",
    "for val in v\n",
    "    print(val, \" \")\n",
    "end"
   ]
  },
  {
   "cell_type": "markdown",
   "id": "f5233fa4",
   "metadata": {},
   "source": [
    "Loops and conditionals can be nested as well."
   ]
  },
  {
   "cell_type": "code",
   "execution_count": 48,
   "id": "5c3737fa",
   "metadata": {},
   "outputs": [
    {
     "name": "stdout",
     "output_type": "stream",
     "text": [
      "1 + 1 = 2\n",
      "1 + 2 = 3\n",
      "1 + 3 = 4\n",
      "2 + 1 = 3\n",
      "2 + 2 = 4\n",
      "2 + 3 = 5\n",
      "3 + 1 = 4\n",
      "3 + 2 = 5\n",
      "3 + 3 = 6\n",
      "4 + 1 = 5\n",
      "4 + 2 = 6\n",
      "4 + 3 = 7\n",
      "5 + 1 = 6\n",
      "5 + 2 = 7\n",
      "5 + 3 = 8\n"
     ]
    }
   ],
   "source": [
    "for i in 1:5\n",
    "    for j in 1:3\n",
    "        println(i, \" + \", j , \" = \", i + j)\n",
    "    end\n",
    "end"
   ]
  },
  {
   "cell_type": "code",
   "execution_count": 49,
   "id": "5582dd5a",
   "metadata": {},
   "outputs": [
    {
     "name": "stdout",
     "output_type": "stream",
     "text": [
      "1 + 1 = 2\n",
      "1 + 2 = 3\n",
      "1 + 3 = 4\n",
      "2 + 1 = 3\n",
      "2 + 2 = 4\n",
      "2 + 3 = 5\n",
      "3 + 1 = 4\n",
      "3 + 2 = 5\n",
      "3 + 3 = 6\n",
      "4 + 1 = 5\n",
      "4 + 2 = 6\n",
      "4 + 3 = 7\n",
      "5 + 1 = 6\n",
      "5 + 2 = 7\n",
      "5 + 3 = 8\n"
     ]
    }
   ],
   "source": [
    "# another way to write the same thing\n",
    "\n",
    "for i in 1:5, j in 1:3\n",
    "    println(i, \" + \", j , \" = \", i + j)\n",
    "end"
   ]
  },
  {
   "cell_type": "markdown",
   "id": "6ba3e171",
   "metadata": {},
   "source": [
    "**Exercise 1**\n",
    "\n",
    "Write a conditional statement that prints: \n",
    "- `even` if the number is even \n",
    "- `odd` if the number is odd. "
   ]
  },
  {
   "cell_type": "code",
   "execution_count": 50,
   "id": "c27a754e",
   "metadata": {},
   "outputs": [],
   "source": []
  },
  {
   "cell_type": "markdown",
   "id": "fe052a9c",
   "metadata": {},
   "source": [
    "**Exercise 2**\n",
    "\n",
    "Write a loop that prints the squares of integers between 1 and 100."
   ]
  },
  {
   "cell_type": "code",
   "execution_count": 51,
   "id": "bd52d3e1",
   "metadata": {},
   "outputs": [
    {
     "name": "stdout",
     "output_type": "stream",
     "text": [
      "1\n",
      "4\n",
      "9\n",
      "16\n",
      "25\n",
      "36\n",
      "49\n",
      "64\n",
      "81\n",
      "100\n",
      "121\n",
      "144\n",
      "169\n",
      "196\n",
      "225\n",
      "256\n",
      "289\n",
      "324\n",
      "361\n",
      "400\n",
      "441\n",
      "484\n",
      "529\n",
      "576\n",
      "625\n",
      "676\n",
      "729\n",
      "784\n",
      "841\n",
      "900\n",
      "961\n",
      "1024\n",
      "1089\n",
      "1156\n",
      "1225\n",
      "1296\n",
      "1369\n",
      "1444\n",
      "1521\n",
      "1600\n",
      "1681\n",
      "1764\n",
      "1849\n",
      "1936\n",
      "2025\n",
      "2116\n",
      "2209\n",
      "2304\n",
      "2401\n",
      "2500\n",
      "2601\n",
      "2704\n",
      "2809\n",
      "2916\n",
      "3025\n",
      "3136\n",
      "3249\n",
      "3364\n",
      "3481\n",
      "3600\n",
      "3721\n",
      "3844\n",
      "3969\n",
      "4096\n",
      "4225\n",
      "4356\n",
      "4489\n",
      "4624\n",
      "4761\n",
      "4900\n",
      "5041\n",
      "5184\n",
      "5329\n",
      "5476\n",
      "5625\n",
      "5776\n",
      "5929\n",
      "6084\n",
      "6241\n",
      "6400\n",
      "6561\n",
      "6724\n",
      "6889\n",
      "7056\n",
      "7225\n",
      "7396\n",
      "7569\n",
      "7744\n",
      "7921\n",
      "8100\n",
      "8281\n",
      "8464\n",
      "8649\n",
      "8836\n",
      "9025\n",
      "9216\n",
      "9409\n",
      "9604\n",
      "9801\n",
      "10000\n"
     ]
    }
   ],
   "source": [
    "for i in 1:100\n",
    "    println(i^2)\n",
    "end"
   ]
  },
  {
   "cell_type": "markdown",
   "id": "407deec1",
   "metadata": {},
   "source": [
    "**Exercise 3**\n",
    "\n",
    "Rewrite the code from Exercise 2 such that the squares of integers (starting from 1) is printed as long as the squares are not greater or egal to 12000."
   ]
  },
  {
   "cell_type": "code",
   "execution_count": 52,
   "id": "754a9f8a",
   "metadata": {},
   "outputs": [
    {
     "name": "stdout",
     "output_type": "stream",
     "text": [
      "1\n",
      "4\n",
      "9\n",
      "16\n",
      "25\n",
      "36\n",
      "49\n",
      "64\n",
      "81\n",
      "100\n",
      "121\n",
      "144\n",
      "169\n",
      "196\n",
      "225\n",
      "256\n",
      "289\n",
      "324\n",
      "361\n",
      "400\n",
      "441\n",
      "484\n",
      "529\n",
      "576\n",
      "625\n",
      "676\n",
      "729\n",
      "784\n",
      "841\n",
      "900\n",
      "961\n",
      "1024\n",
      "1089\n",
      "1156\n",
      "1225\n",
      "1296\n",
      "1369\n",
      "1444\n",
      "1521\n",
      "1600\n",
      "1681\n",
      "1764\n",
      "1849\n",
      "1936\n",
      "2025\n",
      "2116\n",
      "2209\n",
      "2304\n",
      "2401\n",
      "2500\n",
      "2601\n",
      "2704\n",
      "2809\n",
      "2916\n",
      "3025\n",
      "3136\n",
      "3249\n",
      "3364\n",
      "3481\n",
      "3600\n",
      "3721\n",
      "3844\n",
      "3969\n",
      "4096\n",
      "4225\n",
      "4356\n",
      "4489\n",
      "4624\n",
      "4761\n",
      "4900\n",
      "5041\n",
      "5184\n",
      "5329\n",
      "5476\n",
      "5625\n",
      "5776\n",
      "5929\n",
      "6084\n",
      "6241\n",
      "6400\n",
      "6561\n",
      "6724\n",
      "6889\n",
      "7056\n",
      "7225\n",
      "7396\n",
      "7569\n",
      "7744\n",
      "7921\n",
      "8100\n",
      "8281\n",
      "8464\n",
      "8649\n",
      "8836\n",
      "9025\n",
      "9216\n",
      "9409\n",
      "9604\n",
      "9801\n",
      "10000\n"
     ]
    }
   ],
   "source": [
    "for i in 1:100\n",
    "    square = i^2\n",
    "    if square <= 12000\n",
    "        println(i^2)\n",
    "    end\n",
    "end"
   ]
  },
  {
   "cell_type": "markdown",
   "id": "c7851da9",
   "metadata": {},
   "source": [
    "**Exercise 4**\n",
    "\n",
    "We consider a series of measures given.  For example: $\\quad$ `1 1 3 4 6 2` \n",
    "\n",
    "Write a programs that indicates whether the series is monotonic increasing (a value is always larger or equal than the previous value in the series).\n",
    "\n",
    "Examples:\n",
    "- `5 3 1` $\\quad \\Rightarrow \\quad$ Not inceasing\n",
    "- `1 1 3` $\\quad \\Rightarrow \\quad$ Increasing\n",
    "- `4 4 4 4` $\\quad \\Rightarrow \\quad$ Increasing\n",
    "-  `1 1 3 4 6 2`  $\\quad \\Rightarrow \\quad$ Not increasing"
   ]
  },
  {
   "cell_type": "code",
   "execution_count": 53,
   "id": "23ea6e89",
   "metadata": {},
   "outputs": [
    {
     "data": {
      "text/plain": [
       "6-element Vector{Int64}:\n",
       " 1\n",
       " 1\n",
       " 3\n",
       " 4\n",
       " 6\n",
       " 1"
      ]
     },
     "metadata": {},
     "output_type": "display_data"
    }
   ],
   "source": [
    "list = [1,1,3,4,6,1]\n"
   ]
  },
  {
   "cell_type": "markdown",
   "id": "9e3a60f0",
   "metadata": {},
   "source": [
    "**Exercise 5**\n",
    "\n",
    "We consider a series of measures given.  For example: $\\quad$ `1 1 3 4 6 2` \n",
    "\n",
    "Code a program which displays one of this symbol among $\\quad$ \n",
    "$\\large{-},\\ \\large{+},\\ \\large{=},\\ \\large{\\sim}$ $\\quad$\n",
    "if the series is\n",
    "- constant ($\\large{=}$)\n",
    "- monotonic increasing ($\\large{+}$)\n",
    "- monitonic decreasing ($\\large{-}$)\n",
    "- otherwise ($\\large{\\sim}$)\n",
    "\n",
    "Examples:\n",
    "- `5 3 1` $\\quad \\Rightarrow \\quad$ $\\large{-}$\n",
    "- `1 1 3` $\\quad \\Rightarrow \\quad$ $\\large{+}$\n",
    "- `4 4 4 4` $\\quad \\Rightarrow \\quad$ $\\large{=}$\n",
    "-  `1 1 3 4 6 2`  $\\quad \\Rightarrow \\quad$ $\\large{\\sim}$"
   ]
  },
  {
   "cell_type": "code",
   "execution_count": 65,
   "id": "92ebc496",
   "metadata": {},
   "outputs": [
    {
     "name": "stdout",
     "output_type": "stream",
     "text": [
      "-\n",
      "+\n",
      "=\n",
      "~\n"
     ]
    }
   ],
   "source": [
    "list = [1,1,3,4,6,1]\n",
    "\n",
    "\n",
    "function check_sequence(list)\n",
    "    decreasing = 0\n",
    "    increasing = 0\n",
    "    stable_constant = 0\n",
    "    wavy_otherwise_bool = 0\n",
    "    \n",
    "    for j in 2:length(list)\n",
    "        if list[j] > list[j-1]\n",
    "            increasing += 1\n",
    "        elseif list[j] < list[j-1]\n",
    "            decreasing += 1\n",
    "        else\n",
    "            stable_constant += 1\n",
    "        end\n",
    "    end\n",
    "    \n",
    "\n",
    "    if increasing > 0 && decreasing > 0\n",
    "        wavy_otherwise_bool = 1\n",
    "    end\n",
    "    \n",
    "    # println(\"n-1 series stats\")\n",
    "    # println(\"Increasing Num: \", increasing)\n",
    "    # println(\"Decreasing Num: \", decreasing)\n",
    "    # println(\"Stable/Constant Num: \", stable_constant)\n",
    "    # println(\"Wavy/Otherwise Bool: \", wavy_otherwise_bool)\n",
    "\n",
    "\n",
    "    if wavy_otherwise_bool > 0\n",
    "        println(\"~\")\n",
    "    elseif stable_constant == length(list)-1\n",
    "        println(\"=\")\n",
    "    elseif increasing > 0\n",
    "        println(\"+\")\n",
    "    elseif decreasing > 0\n",
    "        println(\"-\")\n",
    "    end\n",
    "end\n",
    "\n",
    "\n",
    "check_sequence([5,3,1])\n",
    "check_sequence([1,1,3])\n",
    "check_sequence([4,4,4,4])\n",
    "check_sequence(list)"
   ]
  }
 ],
 "metadata": {
  "kernelspec": {
   "display_name": "Julia 1.10.0",
   "language": "julia",
   "name": "julia-1.10"
  },
  "language_info": {
   "file_extension": ".jl",
   "mimetype": "application/julia",
   "name": "julia",
   "version": "1.10.0"
  }
 },
 "nbformat": 4,
 "nbformat_minor": 5
}
