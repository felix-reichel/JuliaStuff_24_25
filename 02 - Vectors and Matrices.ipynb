{
 "cells": [
  {
   "cell_type": "markdown",
   "id": "40202b44",
   "metadata": {},
   "source": [
    "# Basics in Julia 2\n",
    "\n",
    "We now know about basic variables and basics maths. However it is often more convenient to handle a collection of elements. For that we can use Arrays/Vectors and Matrices in Julia!\n",
    "\n",
    "## 1. Vectors\n",
    "\n",
    "#### 1.1 Creating vectors\n",
    "\n",
    "A Vector is an array of dimension 1. The most basic way to define a vector in Julia is to use the square brackets and separate each value with a comma as follows:"
   ]
  },
  {
   "cell_type": "code",
   "execution_count": 1,
   "id": "b0691cec",
   "metadata": {},
   "outputs": [
    {
     "data": {
      "text/plain": [
       "3-element Vector{Int64}:\n",
       " 1\n",
       " 2\n",
       " 3"
      ]
     },
     "metadata": {},
     "output_type": "display_data"
    }
   ],
   "source": [
    "v = [1,2,3]"
   ]
  },
  {
   "cell_type": "code",
   "execution_count": 2,
   "id": "b8f82204",
   "metadata": {},
   "outputs": [
    {
     "data": {
      "text/plain": [
       "Vector{Int64}\u001b[90m (alias for \u001b[39m\u001b[90mArray{Int64, 1}\u001b[39m\u001b[90m)\u001b[39m"
      ]
     },
     "metadata": {},
     "output_type": "display_data"
    }
   ],
   "source": [
    "v = [1,2,3]\n",
    "typeof(v)"
   ]
  },
  {
   "cell_type": "markdown",
   "id": "665edba9",
   "metadata": {},
   "source": [
    "The type of an array in Julia is defined as `Vector{T}` where `T` is the type of the elements in the Vector. For example in the example above, we put `Int64` (integers) in the Vector. As a result, the variable `v` has the type `Vector{Int64}`."
   ]
  },
  {
   "cell_type": "code",
   "execution_count": 3,
   "id": "aeb8b8fe",
   "metadata": {},
   "outputs": [
    {
     "data": {
      "text/plain": [
       "4-element Vector{Float64}:\n",
       " 2.2\n",
       " 2.3\n",
       " 5.7\n",
       " 7.1"
      ]
     },
     "metadata": {},
     "output_type": "display_data"
    }
   ],
   "source": [
    "w = [2.2, 2.3, 5.7, 7.1] # Here, we have Float64 in our vector..."
   ]
  },
  {
   "cell_type": "code",
   "execution_count": 4,
   "id": "0ec328d3",
   "metadata": {},
   "outputs": [
    {
     "data": {
      "text/plain": [
       "Vector{Float64}\u001b[90m (alias for \u001b[39m\u001b[90mArray{Float64, 1}\u001b[39m\u001b[90m)\u001b[39m"
      ]
     },
     "metadata": {},
     "output_type": "display_data"
    }
   ],
   "source": [
    "typeof(w) # ... consequently, the type of w is Vector{Float64}"
   ]
  },
  {
   "cell_type": "markdown",
   "id": "cb80ed85",
   "metadata": {},
   "source": [
    "You may sometimes see `Array{T, 1}` instead of `Vector{T}`. These two are equivalent in Julia: a vector is an array of dimension 1.\n",
    "\n",
    "You can add elements of different types in a Vector. Just like for variables, Julia will attribute the appropriate type to the vector by default."
   ]
  },
  {
   "cell_type": "code",
   "execution_count": 5,
   "id": "9b6eb9be",
   "metadata": {},
   "outputs": [
    {
     "data": {
      "text/plain": [
       "5-element Vector{Float64}:\n",
       " 1.0\n",
       " 2.5\n",
       " 4.0\n",
       " 7.0\n",
       " 5.7"
      ]
     },
     "metadata": {},
     "output_type": "display_data"
    }
   ],
   "source": [
    "v = [1, 2.5, 4, 7, 5.7] # A mix of Int64 and Float 64..."
   ]
  },
  {
   "cell_type": "code",
   "execution_count": 6,
   "id": "38e2227b",
   "metadata": {},
   "outputs": [
    {
     "data": {
      "text/plain": [
       "Vector{Float64}\u001b[90m (alias for \u001b[39m\u001b[90mArray{Float64, 1}\u001b[39m\u001b[90m)\u001b[39m"
      ]
     },
     "metadata": {},
     "output_type": "display_data"
    }
   ],
   "source": [
    "typeof(v) # ... will result in a Vector{Float64}, as Int64 can be represented as Float64."
   ]
  },
  {
   "cell_type": "code",
   "execution_count": 7,
   "id": "78404ac2",
   "metadata": {},
   "outputs": [
    {
     "data": {
      "text/plain": [
       "3-element Vector{Any}:\n",
       "     \"Hi\"\n",
       " true\n",
       "    5.4"
      ]
     },
     "metadata": {},
     "output_type": "display_data"
    }
   ],
   "source": [
    "w = [\"Hi\", true, 5.4] # A mix of a lot of different things..."
   ]
  },
  {
   "cell_type": "code",
   "execution_count": 8,
   "id": "ba34cb8c",
   "metadata": {},
   "outputs": [
    {
     "data": {
      "text/plain": [
       "Vector{Any}\u001b[90m (alias for \u001b[39m\u001b[90mArray{Any, 1}\u001b[39m\u001b[90m)\u001b[39m"
      ]
     },
     "metadata": {},
     "output_type": "display_data"
    }
   ],
   "source": [
    "typeof(w) # ... will result in a Vector{Any}"
   ]
  },
  {
   "cell_type": "markdown",
   "id": "f8dee1a7",
   "metadata": {},
   "source": [
    "The keyword `Any` basically means that the type can be anything. It is often **something better to avoid** however! The reason is that Julia will have to check the type of each element before performing an operation on it, to evaluate what it is allowed to do or not on this element. This often leads to slower code.\n",
    "\n",
    "There are a few functions that are helpful to create particular arrays in Julia:"
   ]
  },
  {
   "cell_type": "code",
   "execution_count": 9,
   "id": "646e9e9e",
   "metadata": {},
   "outputs": [
    {
     "data": {
      "text/plain": [
       "10-element Vector{Float64}:\n",
       " 0.0\n",
       " 0.0\n",
       " 0.0\n",
       " 0.0\n",
       " 0.0\n",
       " 0.0\n",
       " 0.0\n",
       " 0.0\n",
       " 0.0\n",
       " 0.0"
      ]
     },
     "metadata": {},
     "output_type": "display_data"
    }
   ],
   "source": [
    "zeros(10) # creates a vector of size 10 containing only 0s (as Float64)"
   ]
  },
  {
   "cell_type": "code",
   "execution_count": 10,
   "id": "0da0ee93",
   "metadata": {},
   "outputs": [
    {
     "data": {
      "text/plain": [
       "10-element Vector{Float64}:\n",
       " 1.0\n",
       " 1.0\n",
       " 1.0\n",
       " 1.0\n",
       " 1.0\n",
       " 1.0\n",
       " 1.0\n",
       " 1.0\n",
       " 1.0\n",
       " 1.0"
      ]
     },
     "metadata": {},
     "output_type": "display_data"
    }
   ],
   "source": [
    "ones(10) # creates a vector of size 10 containing only 1s (as Float64)"
   ]
  },
  {
   "cell_type": "code",
   "execution_count": 11,
   "id": "d44eb55c",
   "metadata": {},
   "outputs": [
    {
     "data": {
      "text/plain": [
       "10-element Vector{Int64}:\n",
       " 0\n",
       " 0\n",
       " 0\n",
       " 0\n",
       " 0\n",
       " 0\n",
       " 0\n",
       " 0\n",
       " 0\n",
       " 0"
      ]
     },
     "metadata": {},
     "output_type": "display_data"
    }
   ],
   "source": [
    "# for both of these functions, you can specify the type of the 0s and 1s\n",
    "\n",
    "zeros(Int64, 10)"
   ]
  },
  {
   "cell_type": "code",
   "execution_count": 12,
   "id": "9d0efd81",
   "metadata": {},
   "outputs": [
    {
     "data": {
      "text/plain": [
       "5-element Vector{Int64}:\n",
       " 10\n",
       " 10\n",
       " 10\n",
       " 10\n",
       " 10"
      ]
     },
     "metadata": {},
     "output_type": "display_data"
    }
   ],
   "source": [
    "fill(10,5) # creates an array of size 5 containing 10s (this time by default as Int64!!!)"
   ]
  },
  {
   "cell_type": "markdown",
   "id": "8c4f415c",
   "metadata": {},
   "source": [
    "Remember that you can always check the documentation if you are unsure of how to use a function, and what parameters you can specify for the functions! When in doubt, it's the right thing to do.\n",
    "\n",
    "Another way to create vectors is to use something sometimes refered to as *array comprehension*. It uses the concept of for loops to create vectors. There will be more details on loops later, but for now here are a few examples. I'm sure you will get the gist of it:"
   ]
  },
  {
   "cell_type": "code",
   "execution_count": 13,
   "id": "206860fd",
   "metadata": {},
   "outputs": [
    {
     "data": {
      "text/plain": [
       "5-element Vector{Int64}:\n",
       " 1\n",
       " 2\n",
       " 3\n",
       " 4\n",
       " 5"
      ]
     },
     "metadata": {},
     "output_type": "display_data"
    }
   ],
   "source": [
    "[i for i in 1:5] # equivalent to [1, 2, 3, 4, 5]\n",
    "\n",
    "#=\n",
    "start:stop, where start and stop are two integers, is a range.\n",
    "It is equivalent to start, start+1, start+2, ..., stop-2, stop-1, stop. More on that later!\n",
    "=#"
   ]
  },
  {
   "cell_type": "code",
   "execution_count": 14,
   "id": "feaaa0da",
   "metadata": {},
   "outputs": [
    {
     "data": {
      "text/plain": [
       "7-element Vector{Int64}:\n",
       "    2\n",
       "    4\n",
       "    9\n",
       "   28\n",
       "  125\n",
       "  726\n",
       " 5047"
      ]
     },
     "metadata": {},
     "output_type": "display_data"
    }
   ],
   "source": [
    "# You can play around with more complex functions as well\n",
    "\n",
    "[factorial(i) + i for i in 1:7]"
   ]
  },
  {
   "cell_type": "code",
   "execution_count": 15,
   "id": "78760319",
   "metadata": {},
   "outputs": [
    {
     "data": {
      "text/plain": [
       "5-element Vector{Int64}:\n",
       " 1\n",
       " 3\n",
       " 5\n",
       " 7\n",
       " 9"
      ]
     },
     "metadata": {},
     "output_type": "display_data"
    }
   ],
   "source": [
    "# You can add conditions on the indices as well\n",
    "\n",
    "[i for i in 1:10 if i % 2 == 1] # creates an array with odd numbers between 1 and 10\n",
    "\n",
    "#=\n",
    "Note: this uses the syntax of if statements that we have not encountered yet.\n",
    "For now, just know that it works by adding if followed by a boolean expression (true or false).\n",
    "=#"
   ]
  },
  {
   "cell_type": "code",
   "execution_count": 16,
   "id": "9d28bea9",
   "metadata": {},
   "outputs": [
    {
     "data": {
      "text/plain": [
       "8-element Vector{Int64}:\n",
       " 1\n",
       " 2\n",
       " 3\n",
       " 4\n",
       " 1\n",
       " 2\n",
       " 3\n",
       " 4"
      ]
     },
     "metadata": {},
     "output_type": "display_data"
    }
   ],
   "source": [
    "# You can also have multiple indices\n",
    "\n",
    "[j for i in 1:2 for j in 1:4] # Note the priority of the indices here: for each i in order, the second for loop is executed"
   ]
  },
  {
   "cell_type": "code",
   "execution_count": 17,
   "id": "2c5d6cd2",
   "metadata": {},
   "outputs": [
    {
     "data": {
      "text/plain": [
       "14-element Vector{Int64}:\n",
       " -1\n",
       "  0\n",
       "  1\n",
       "  2\n",
       "  3\n",
       "  4\n",
       "  5\n",
       "  0\n",
       "  1\n",
       "  2\n",
       "  3\n",
       "  4\n",
       "  5\n",
       "  6"
      ]
     },
     "metadata": {},
     "output_type": "display_data"
    }
   ],
   "source": [
    "[i + j for i in 1:2 for j in -2:4]"
   ]
  },
  {
   "cell_type": "markdown",
   "id": "0fab3bc7",
   "metadata": {},
   "source": [
    "Finally, we sometimes know in advance the size of a vector but we do not know the values that should go inside the vector yet. In such cases, it can be useful to create an uninitialized vector. Let's make an uninitialized vector of size 10 that will contains integers:"
   ]
  },
  {
   "cell_type": "code",
   "execution_count": 18,
   "id": "6f3d70b5",
   "metadata": {},
   "outputs": [
    {
     "data": {
      "text/plain": [
       "10-element Vector{Int64}:\n",
       " 4774779152\n",
       " 4436076496\n",
       " 4425667664\n",
       " 4435907024\n",
       " 4478669616\n",
       " 4478670096\n",
       " 4478670144\n",
       " 4435906128\n",
       " 4435906192\n",
       " 4435906256"
      ]
     },
     "metadata": {},
     "output_type": "display_data"
    }
   ],
   "source": [
    "v = Vector{Int64}(undef, 10)"
   ]
  },
  {
   "cell_type": "markdown",
   "id": "6964edba",
   "metadata": {},
   "source": [
    "Note that you have to specify the type of the vector yourself this time, since Julia do not know what elements constitutes your vector yet. The keywork `undef` means that the elements of the vector are not defined yet. As you can see, there are still some values assigned in each cell of the vector, but those are random and do not have a particular meaning - you can ignore them and fill your vector as you like."
   ]
  },
  {
   "cell_type": "markdown",
   "id": "663d3461",
   "metadata": {},
   "source": [
    "#### 1.2 Accessing and modifying the elements of a vector\n",
    "\n",
    "To access one element of a vector, use the square backets together with the index of the element you want to access. Note that in Julia, **indexing starts at 1**, not 0."
   ]
  },
  {
   "cell_type": "code",
   "execution_count": 19,
   "id": "814ce6f6",
   "metadata": {},
   "outputs": [
    {
     "data": {
      "text/plain": [
       "4"
      ]
     },
     "metadata": {},
     "output_type": "display_data"
    }
   ],
   "source": [
    "v = [1,5,4,7,6]\n",
    "v[3] # third element of the vector"
   ]
  },
  {
   "cell_type": "markdown",
   "id": "c1a4048b",
   "metadata": {},
   "source": [
    "To access the last element of a vector, the keywork `end` can be used in place of the index. Moreover, you can use basic operations with the keyword end, e.g. do access the second to last element, ect."
   ]
  },
  {
   "cell_type": "code",
   "execution_count": 20,
   "id": "5e993c8c",
   "metadata": {},
   "outputs": [
    {
     "data": {
      "text/plain": [
       "6"
      ]
     },
     "metadata": {},
     "output_type": "display_data"
    }
   ],
   "source": [
    "v = [1,5,4,7,6]\n",
    "v[end] # last element of the vector"
   ]
  },
  {
   "cell_type": "code",
   "execution_count": 21,
   "id": "1ba10c90",
   "metadata": {},
   "outputs": [
    {
     "data": {
      "text/plain": [
       "7"
      ]
     },
     "metadata": {},
     "output_type": "display_data"
    }
   ],
   "source": [
    "v = [1,5,4,7,6]\n",
    "v[end - 1] # you can do basic operations with end as well"
   ]
  },
  {
   "cell_type": "markdown",
   "id": "0f285029",
   "metadata": {},
   "source": [
    "You can access multiple elements of a vector at once by using a range (`start:stop`) and even a vector of indices."
   ]
  },
  {
   "cell_type": "code",
   "execution_count": 22,
   "id": "171b5fdb",
   "metadata": {},
   "outputs": [
    {
     "data": {
      "text/plain": [
       "3-element Vector{Int64}:\n",
       " 4\n",
       " 1\n",
       " 5"
      ]
     },
     "metadata": {},
     "output_type": "display_data"
    }
   ],
   "source": [
    "# with a range\n",
    "v = [5,2,4,1,5,4,8,7,5,9,6,5,3,2,1] # size is 15\n",
    "\n",
    "v[3:5] # returns a sub-vector made of the elements at indices 3, 4, and 5"
   ]
  },
  {
   "cell_type": "code",
   "execution_count": 23,
   "id": "e0a748b2",
   "metadata": {},
   "outputs": [
    {
     "data": {
      "text/plain": [
       "4-element Vector{Int64}:\n",
       " 5\n",
       " 4\n",
       " 5\n",
       " 1"
      ]
     },
     "metadata": {},
     "output_type": "display_data"
    }
   ],
   "source": [
    "# with a vector of indices\n",
    "v = [5,2,4,1,5,4,8,7,5,9,6,5,3,2,1] # size is 15\n",
    "\n",
    "indices = [1,3,12,15]\n",
    "v[indices] # returns a sub-vector made of the elements at indices 1, 3, 12, and 15"
   ]
  },
  {
   "cell_type": "markdown",
   "id": "55acc033",
   "metadata": {},
   "source": [
    "You can as well modify the elements of a vector using that. For example:"
   ]
  },
  {
   "cell_type": "code",
   "execution_count": 24,
   "id": "a6a6f1c0",
   "metadata": {},
   "outputs": [
    {
     "name": "stdout",
     "output_type": "stream",
     "text": [
      "[1, 5, 9, 7, 6]\n"
     ]
    }
   ],
   "source": [
    "v = [1,5,4,7,6]\n",
    "v[3] = 9 # the third element of v becomes 9\n",
    "println(v)"
   ]
  },
  {
   "cell_type": "code",
   "execution_count": 25,
   "id": "a3d240dc",
   "metadata": {},
   "outputs": [
    {
     "name": "stdout",
     "output_type": "stream",
     "text": [
      "[5, 2, 99, 99, 99, 4, 8, 7, 5, 9, 6, 5, 3, 2, 1]\n"
     ]
    }
   ],
   "source": [
    "v = [5,2,4,1,5,4,8,7,5,9,6,5,3,2,1]\n",
    "v[3:5] = [99,99,99]\n",
    "println(v)"
   ]
  },
  {
   "cell_type": "markdown",
   "id": "77624f8c",
   "metadata": {},
   "source": [
    "When changing the value of multiple elements at once, you have to make sure that you are giving the same number of values than elements you are trying to modify! For example, if you try to assign one value to a sub-vector of size three, you will get the following error:"
   ]
  },
  {
   "cell_type": "code",
   "execution_count": 26,
   "id": "a87ed313",
   "metadata": {},
   "outputs": [
    {
     "ename": "DimensionMismatch",
     "evalue": "DimensionMismatch: tried to assign 1 elements to 3 destinations",
     "output_type": "error",
     "traceback": [
      "DimensionMismatch: tried to assign 1 elements to 3 destinations\n",
      "\n",
      "Stacktrace:\n",
      " [1] throw_setindex_mismatch(X::Vector{Int64}, I::Tuple{Int64})\n",
      "   @ Base ./indices.jl:191\n",
      " [2] setindex_shape_check\n",
      "   @ Base ./indices.jl:245 [inlined]\n",
      " [3] setindex!(A::Vector{Int64}, X::Vector{Int64}, I::UnitRange{Int64})\n",
      "   @ Base ./array.jl:1052\n",
      " [4] top-level scope\n",
      "   @ ~/Desktop/JuliaStuff_24_25/jl_notebook_cell_df34fa98e69747e1a8f8a730347b8e2f_X52sZmlsZQ==.jl:2"
     ]
    }
   ],
   "source": [
    "v = [5,2,4,1,5,4,8,7,5,9,6,5,3,2,1]\n",
    "v[3:5] = [99]"
   ]
  },
  {
   "cell_type": "markdown",
   "id": "271c4f25",
   "metadata": {},
   "source": [
    "#### 1.3 Dynamically changing the size of a vector\n",
    "\n",
    "It is possible to add elements to vectors using the functions `push!` and `pushfirst!`."
   ]
  },
  {
   "cell_type": "code",
   "execution_count": 27,
   "id": "bd2f67cc",
   "metadata": {},
   "outputs": [
    {
     "name": "stdout",
     "output_type": "stream",
     "text": [
      "[5, 4, 1, 2, 10]\n"
     ]
    }
   ],
   "source": [
    "# at the back\n",
    "\n",
    "v = [5,4,1,2]\n",
    "push!(v, 10)\n",
    "println(v)"
   ]
  },
  {
   "cell_type": "code",
   "execution_count": 28,
   "id": "8f45ba81",
   "metadata": {},
   "outputs": [
    {
     "name": "stdout",
     "output_type": "stream",
     "text": [
      "[10, 5, 4, 1, 2]\n"
     ]
    }
   ],
   "source": [
    "# at the front\n",
    "\n",
    "v = [5,4,1,2]\n",
    "pushfirst!(v, 10)\n",
    "println(v)"
   ]
  },
  {
   "cell_type": "markdown",
   "id": "6b71433b",
   "metadata": {},
   "source": [
    "Similarly, it is possible to remove elements from vectors as well with the functions `pop!` and `popfirst!`. These two functions also returns the extracted value, which you can store in a variable."
   ]
  },
  {
   "cell_type": "code",
   "execution_count": 29,
   "id": "903db290",
   "metadata": {},
   "outputs": [
    {
     "name": "stdout",
     "output_type": "stream",
     "text": [
      "[5, 4, 1]\n"
     ]
    }
   ],
   "source": [
    "# at the back\n",
    "\n",
    "v = [5,4,1,2]\n",
    "pop!(v)\n",
    "println(v)"
   ]
  },
  {
   "cell_type": "code",
   "execution_count": 30,
   "id": "1a87d231",
   "metadata": {},
   "outputs": [
    {
     "name": "stdout",
     "output_type": "stream",
     "text": [
      "[4, 1, 2]\n"
     ]
    }
   ],
   "source": [
    "# at the front\n",
    "\n",
    "v = [5,4,1,2]\n",
    "popfirst!(v)\n",
    "println(v)"
   ]
  },
  {
   "cell_type": "code",
   "execution_count": 31,
   "id": "6c650cd5",
   "metadata": {},
   "outputs": [
    {
     "name": "stdout",
     "output_type": "stream",
     "text": [
      "[5, 4, 1]\n",
      "2\n"
     ]
    }
   ],
   "source": [
    "# extracted value\n",
    "\n",
    "v = [5,4,1,2]\n",
    "extractedValue = pop!(v)\n",
    "println(v)\n",
    "println(extractedValue)"
   ]
  },
  {
   "cell_type": "code",
   "execution_count": 32,
   "id": "630ed652",
   "metadata": {},
   "outputs": [
    {
     "name": "stdout",
     "output_type": "stream",
     "text": [
      "[5, 4, 2]\n"
     ]
    }
   ],
   "source": [
    "# at a given index\n",
    "\n",
    "v = [5,4,1,2]\n",
    "splice!(v, 3)\n",
    "println(v)"
   ]
  },
  {
   "cell_type": "markdown",
   "id": "b2f72ccc",
   "metadata": {},
   "source": [
    "You can merge two vectors by using the function `append`."
   ]
  },
  {
   "cell_type": "code",
   "execution_count": 33,
   "id": "10d2cff0",
   "metadata": {},
   "outputs": [
    {
     "name": "stdout",
     "output_type": "stream",
     "text": [
      "[1, 2, 3, 4, 5, 6]\n",
      "[5, 6]\n"
     ]
    }
   ],
   "source": [
    "v1 = [1,2,3,4]\n",
    "v2 = [5,6]\n",
    "\n",
    "append!(v1, v2)\n",
    "\n",
    "println(v1)\n",
    "println(v2)"
   ]
  },
  {
   "cell_type": "markdown",
   "id": "31f140b2",
   "metadata": {},
   "source": [
    "You may notice that these function have this unsusual `!` in their name. It in fact comes from a Julia naming convention: some functions that modify a vector have this exclamation marks.\n",
    "\n",
    "#### 1.4 Apply a function to all elements of a vector\n",
    "\n",
    "It is sometimes handy to apply a function to all elements of a vector. There are multiple ways to do so. For basic operator, *broadcasting* can be used: simply put a `.` before the operator or after the name of the function you want to apply.\n",
    "\n",
    "For example, let's try to deccrease by 1 all values in the vector `v = [2,4,8,16]`."
   ]
  },
  {
   "cell_type": "code",
   "execution_count": 34,
   "id": "0ac32af5",
   "metadata": {},
   "outputs": [
    {
     "ename": "MethodError",
     "evalue": "MethodError: no method matching -(::Vector{Int64}, ::Int64)\nFor element-wise subtraction, use broadcasting with dot syntax: array .- scalar\n\nClosest candidates are:\n  -(!Matched::Base.CoreLogging.LogLevel, ::Integer)\n   @ Base logging.jl:132\n  -(!Matched::Complex{Bool}, ::Real)\n   @ Base complex.jl:326\n  -(!Matched::BigInt, ::Union{Int16, Int32, Int64, Int8})\n   @ Base gmp.jl:557\n  ...\n",
     "output_type": "error",
     "traceback": [
      "MethodError: no method matching -(::Vector{Int64}, ::Int64)\n",
      "For element-wise subtraction, use broadcasting with dot syntax: array .- scalar\n",
      "\n",
      "Closest candidates are:\n",
      "  -(!Matched::Base.CoreLogging.LogLevel, ::Integer)\n",
      "   @ Base logging.jl:132\n",
      "  -(!Matched::Complex{Bool}, ::Real)\n",
      "   @ Base complex.jl:326\n",
      "  -(!Matched::BigInt, ::Union{Int16, Int32, Int64, Int8})\n",
      "   @ Base gmp.jl:557\n",
      "  ...\n",
      "\n",
      "\n",
      "Stacktrace:\n",
      " [1] top-level scope\n",
      "   @ ~/Desktop/JuliaStuff_24_25/jl_notebook_cell_df34fa98e69747e1a8f8a730347b8e2f_Y100sZmlsZQ==.jl:3"
     ]
    }
   ],
   "source": [
    "# We cannot just say v - 1, this doesn't work and raise an error\n",
    "v = [2,4,8,16]\n",
    "v - 1"
   ]
  },
  {
   "cell_type": "code",
   "execution_count": 35,
   "id": "df07c639",
   "metadata": {},
   "outputs": [
    {
     "data": {
      "text/plain": [
       "4-element Vector{Int64}:\n",
       "  1\n",
       "  3\n",
       "  7\n",
       " 15"
      ]
     },
     "metadata": {},
     "output_type": "display_data"
    }
   ],
   "source": [
    "# We have to use broadcasting to apply -1 to all elements\n",
    "v = [2,4,8,16]\n",
    "v .- 1"
   ]
  },
  {
   "cell_type": "code",
   "execution_count": 36,
   "id": "2f8cc9a2",
   "metadata": {},
   "outputs": [
    {
     "data": {
      "text/plain": [
       "4-element Vector{Float64}:\n",
       "    7.38905609893065\n",
       "   54.598150033144236\n",
       " 2980.9579870417283\n",
       "    8.886110520507872e6"
      ]
     },
     "metadata": {},
     "output_type": "display_data"
    }
   ],
   "source": [
    "# it works with functions as well\n",
    "v = [2,4,8,16]\n",
    "exp.(v)"
   ]
  },
  {
   "cell_type": "code",
   "execution_count": 37,
   "id": "60fd042a",
   "metadata": {},
   "outputs": [
    {
     "name": "stdout",
     "output_type": "stream",
     "text": [
      "[3.8284271247461903, 5.0, 6.656854249492381, 9.0]\n"
     ]
    }
   ],
   "source": [
    "# You can combine them to make more complex expressions\n",
    "v = [2,4,8,16]\n",
    "w = 2 .* sqrt.(v) .+ 1 # we apply 2 * sqrt(.) + 1 to each element of v\n",
    "println(w)"
   ]
  },
  {
   "cell_type": "markdown",
   "id": "4cb5b64a",
   "metadata": {},
   "source": [
    "When making more complex expressions like in the previous example, it can quickly becomes harder to read. Another way to do it is to use the function `map`, that works by defining an expression and applying it to each element of the vector."
   ]
  },
  {
   "cell_type": "code",
   "execution_count": 38,
   "id": "8de7618a",
   "metadata": {},
   "outputs": [
    {
     "name": "stdout",
     "output_type": "stream",
     "text": [
      "[3.8284271247461903, 5.0, 6.656854249492381, 9.0]\n"
     ]
    }
   ],
   "source": [
    "v = [2,4,8,16]\n",
    "w = map(x -> 2 * sqrt(x) + 1, v)\n",
    "println(w)"
   ]
  },
  {
   "cell_type": "markdown",
   "id": "864e184a",
   "metadata": {},
   "source": [
    "Note that broadcasting and `map` do *not* modify the initial vector, they return a new one!"
   ]
  },
  {
   "cell_type": "markdown",
   "id": "aa15279a",
   "metadata": {},
   "source": [
    "#### 1.5 Making a copy of a vector\n",
    "\n",
    "Copying a basic variable with a basic type is very easy and straightforward:"
   ]
  },
  {
   "cell_type": "code",
   "execution_count": 39,
   "id": "9432e22b",
   "metadata": {},
   "outputs": [
    {
     "name": "stdout",
     "output_type": "stream",
     "text": [
      "a = 2\n",
      "b = 8\n"
     ]
    }
   ],
   "source": [
    "a = 5\n",
    "b = a # b is a copy of a\n",
    "\n",
    "a = 2 # we modify a\n",
    "b += 3 # we do some operations on b\n",
    "\n",
    "println(\"a = \", a)\n",
    "println(\"b = \", b)"
   ]
  },
  {
   "cell_type": "markdown",
   "id": "e0744620",
   "metadata": {},
   "source": [
    "We make a copy of `a` and store it in `b` by using `a = b`. Then, we can make modifications on `a` and `b` independently. In the case of vectors, the situation is a bit different!"
   ]
  },
  {
   "cell_type": "code",
   "execution_count": 40,
   "id": "8ea54ca8",
   "metadata": {},
   "outputs": [
    {
     "name": "stdout",
     "output_type": "stream",
     "text": [
      "a = [1, 0, 3, 4]\n",
      "b = [1, 0, 3, 4]\n"
     ]
    }
   ],
   "source": [
    "a = [1,2,3,4]\n",
    "b = a\n",
    "\n",
    "b[2] = 0\n",
    "\n",
    "println(\"a = \", a)\n",
    "println(\"b = \", b)"
   ]
  },
  {
   "cell_type": "markdown",
   "id": "bc85cf3d",
   "metadata": {},
   "source": [
    "If we use the same copy procedure, when a modification on `b` also changes `a`!!! This is due to the way vectors are represented and handled in the computer. If you want to make an actual copy of a vector, you have to use the function `copy`."
   ]
  },
  {
   "cell_type": "code",
   "execution_count": 41,
   "id": "196c1b56",
   "metadata": {},
   "outputs": [
    {
     "name": "stdout",
     "output_type": "stream",
     "text": [
      "a = [1, 2, 3, 4]\n",
      "b = [1, 0, 3, 4]\n"
     ]
    }
   ],
   "source": [
    "a = [1,2,3,4]\n",
    "b = copy(a)\n",
    "\n",
    "b[2] = 0\n",
    "\n",
    "println(\"a = \", a)\n",
    "println(\"b = \", b)"
   ]
  },
  {
   "cell_type": "markdown",
   "id": "088e9a6b",
   "metadata": {},
   "source": [
    "**Exercise 1**\n",
    "\n",
    "Create the vector `myvct = [2, 7, 4]`.\n",
    "\n",
    "1. Add the value 99 to the end of this vector.\n",
    "2. Remove the first value of this vector."
   ]
  },
  {
   "cell_type": "code",
   "execution_count": 42,
   "id": "32a53d12",
   "metadata": {},
   "outputs": [],
   "source": []
  },
  {
   "cell_type": "markdown",
   "id": "cc6cc31e",
   "metadata": {},
   "source": [
    "**Exercise 2**\n",
    "\n",
    "Use an array comprehension to create an array that stores the squares of all integers between 1 and 100."
   ]
  },
  {
   "cell_type": "code",
   "execution_count": 43,
   "id": "41e0b3aa",
   "metadata": {},
   "outputs": [],
   "source": []
  },
  {
   "cell_type": "markdown",
   "id": "2c26e94c",
   "metadata": {},
   "source": [
    "#### 1.6 Useful functions for vectors\n",
    "\n",
    "There are plenty of useful functions for vectors. Here are a few of them (see documentation for more details):"
   ]
  },
  {
   "cell_type": "code",
   "execution_count": 44,
   "id": "149b1e2a",
   "metadata": {},
   "outputs": [
    {
     "data": {
      "text/plain": [
       "8"
      ]
     },
     "metadata": {},
     "output_type": "display_data"
    }
   ],
   "source": [
    "# length of a vector\n",
    "\n",
    "v = [5,4,8,5,4,3,4,9]\n",
    "length(v)"
   ]
  },
  {
   "cell_type": "code",
   "execution_count": 45,
   "id": "d2aa023c",
   "metadata": {},
   "outputs": [
    {
     "name": "stdout",
     "output_type": "stream",
     "text": [
      "3\n",
      "9\n"
     ]
    }
   ],
   "source": [
    "# get the minimum and maximum\n",
    "\n",
    "v = [5,4,8,5,4,3,4,9]\n",
    "println(minimum(v))\n",
    "println(maximum(v))"
   ]
  },
  {
   "cell_type": "code",
   "execution_count": 46,
   "id": "4fc527c6",
   "metadata": {},
   "outputs": [
    {
     "data": {
      "text/plain": [
       "3"
      ]
     },
     "metadata": {},
     "output_type": "display_data"
    }
   ],
   "source": [
    "# find the first occurence of a value in a vector\n",
    "\n",
    "v = [5,4,8,5,4,3,4,9]\n",
    "findfirst(x -> x == 8, v) # requires a boolean function as the first parameter"
   ]
  },
  {
   "cell_type": "code",
   "execution_count": 47,
   "id": "73faa9e0",
   "metadata": {},
   "outputs": [
    {
     "name": "stdout",
     "output_type": "stream",
     "text": [
      "[3, 4, 4, 4, 5, 5, 8, 9]\n"
     ]
    }
   ],
   "source": [
    "# sort a vector\n",
    "\n",
    "v = [5,4,8,5,4,3,4,9]\n",
    "sort!(v) # Useful tip: there is a variant called sort (no exclamation mark) that do not modify v directly\n",
    "println(v)"
   ]
  },
  {
   "cell_type": "code",
   "execution_count": 48,
   "id": "c9435b60",
   "metadata": {},
   "outputs": [
    {
     "data": {
      "text/plain": [
       "8-element Vector{Int64}:\n",
       " 6\n",
       " 2\n",
       " 5\n",
       " 7\n",
       " 1\n",
       " 4\n",
       " 3\n",
       " 8"
      ]
     },
     "metadata": {},
     "output_type": "display_data"
    }
   ],
   "source": [
    "# get the sorted indices\n",
    "\n",
    "v = [5,4,8,5,4,3,4,9]\n",
    "sortperm(v)"
   ]
  },
  {
   "cell_type": "markdown",
   "id": "afa78828",
   "metadata": {},
   "source": [
    "## 2. Matrices\n",
    "\n",
    "Matrices are very similar to vectors, the main difference being that these are two dimensional. There are two ways to consider matrices in Julia: using the actual `Matrix` type (multidimentional array), or using vectors of vectors.\n",
    "\n",
    "#### 2.1 Matrix\n",
    "\n",
    "The most basic way to define a matrix is to use square brackets. Each row is separated by a `;`, and values within each row are separated by a space."
   ]
  },
  {
   "cell_type": "code",
   "execution_count": 49,
   "id": "862ef6ea",
   "metadata": {},
   "outputs": [
    {
     "data": {
      "text/plain": [
       "2×2 Matrix{Int64}:\n",
       " 1  2\n",
       " 3  4"
      ]
     },
     "metadata": {},
     "output_type": "display_data"
    }
   ],
   "source": [
    "M = [1 2; 3 4]"
   ]
  },
  {
   "cell_type": "code",
   "execution_count": 50,
   "id": "2cf6fa8b",
   "metadata": {},
   "outputs": [
    {
     "data": {
      "text/plain": [
       "Matrix{Int64}\u001b[90m (alias for \u001b[39m\u001b[90mArray{Int64, 2}\u001b[39m\u001b[90m)\u001b[39m"
      ]
     },
     "metadata": {},
     "output_type": "display_data"
    }
   ],
   "source": [
    "M = [1 2; 3 4]\n",
    "typeof(M) # see the type"
   ]
  },
  {
   "cell_type": "markdown",
   "id": "a7647e28",
   "metadata": {},
   "source": [
    "You can define particular or undefined matrices the same way as for vectors, except that you have to specify two dimensions now."
   ]
  },
  {
   "cell_type": "code",
   "execution_count": 51,
   "id": "428177af",
   "metadata": {},
   "outputs": [
    {
     "data": {
      "text/plain": [
       "4×6 Matrix{Float64}:\n",
       " 0.0  0.0  0.0  0.0  0.0  0.0\n",
       " 0.0  0.0  0.0  0.0  0.0  0.0\n",
       " 0.0  0.0  0.0  0.0  0.0  0.0\n",
       " 0.0  0.0  0.0  0.0  0.0  0.0"
      ]
     },
     "metadata": {},
     "output_type": "display_data"
    }
   ],
   "source": [
    "zeros(4,6)"
   ]
  },
  {
   "cell_type": "code",
   "execution_count": 52,
   "id": "3a07ab8e",
   "metadata": {},
   "outputs": [
    {
     "data": {
      "text/plain": [
       "2×8 Matrix{Float64}:\n",
       " 1.0  1.0  1.0  1.0  1.0  1.0  1.0  1.0\n",
       " 1.0  1.0  1.0  1.0  1.0  1.0  1.0  1.0"
      ]
     },
     "metadata": {},
     "output_type": "display_data"
    }
   ],
   "source": [
    "ones(2,8)"
   ]
  },
  {
   "cell_type": "code",
   "execution_count": 53,
   "id": "afdf7f18",
   "metadata": {},
   "outputs": [
    {
     "data": {
      "text/plain": [
       "3×1 Matrix{Float64}:\n",
       " 2.5\n",
       " 2.5\n",
       " 2.5"
      ]
     },
     "metadata": {},
     "output_type": "display_data"
    }
   ],
   "source": [
    "fill(2.5, 3, 1)"
   ]
  },
  {
   "cell_type": "code",
   "execution_count": 54,
   "id": "6c2f4033",
   "metadata": {},
   "outputs": [
    {
     "data": {
      "text/plain": [
       "4×4 Matrix{Int64}:\n",
       " 0  0  0  1\n",
       " 0  0  0  0\n",
       " 0  1  1  1\n",
       " 0  0  1  0"
      ]
     },
     "metadata": {},
     "output_type": "display_data"
    }
   ],
   "source": [
    "M = Matrix{Int64}(undef, 4, 4)"
   ]
  },
  {
   "cell_type": "markdown",
   "id": "57ce59b1",
   "metadata": {},
   "source": [
    "To access elements of a Matrix, use the square brackets and the two indices separated by a `,`. You can again access the last element of a dimension using the keywork `end`. You can also select multiple indices at once for one dimension using `a:b`. Finally, you can select all indices for one dimension using `:`."
   ]
  },
  {
   "cell_type": "code",
   "execution_count": 55,
   "id": "c6e121c0",
   "metadata": {},
   "outputs": [
    {
     "data": {
      "text/plain": [
       "5×4 Matrix{Int64}:\n",
       "  5  8  7  9\n",
       "  4  5  1  2\n",
       "  8  7  5  0\n",
       "  5  8  8  8\n",
       " 45  1  2  1"
      ]
     },
     "metadata": {},
     "output_type": "display_data"
    }
   ],
   "source": [
    "M = [5 8 7 9; 4 5 1 2; 8 7 5 0; 5 8 8 8; 45 1 2 1]"
   ]
  },
  {
   "cell_type": "code",
   "execution_count": 56,
   "id": "a045e221",
   "metadata": {},
   "outputs": [
    {
     "data": {
      "text/plain": [
       "7"
      ]
     },
     "metadata": {},
     "output_type": "display_data"
    }
   ],
   "source": [
    "M[1,3] # M[row, column]"
   ]
  },
  {
   "cell_type": "code",
   "execution_count": 57,
   "id": "8b2029e1",
   "metadata": {},
   "outputs": [
    {
     "data": {
      "text/plain": [
       "3-element Vector{Int64}:\n",
       " 7\n",
       " 5\n",
       " 0"
      ]
     },
     "metadata": {},
     "output_type": "display_data"
    }
   ],
   "source": [
    "M[3,2:end] # row 3, columns 2 to the end. The result is a vector!"
   ]
  },
  {
   "cell_type": "code",
   "execution_count": 58,
   "id": "8e76ec94",
   "metadata": {},
   "outputs": [
    {
     "data": {
      "text/plain": [
       "5-element Vector{Int64}:\n",
       " 7\n",
       " 1\n",
       " 5\n",
       " 8\n",
       " 2"
      ]
     },
     "metadata": {},
     "output_type": "display_data"
    }
   ],
   "source": [
    "M[:, 3] # returns column 3 as a vector"
   ]
  },
  {
   "cell_type": "markdown",
   "id": "a6670f63",
   "metadata": {},
   "source": [
    "Broadcasting and `map` work the same way as for vectors."
   ]
  },
  {
   "cell_type": "code",
   "execution_count": 59,
   "id": "dee4e7af",
   "metadata": {},
   "outputs": [
    {
     "data": {
      "text/plain": [
       "5×4 Matrix{Int64}:\n",
       " 10  16  14  18\n",
       "  8  10   2   4\n",
       " 16  14  10   0\n",
       " 10  16  16  16\n",
       " 90   2   4   2"
      ]
     },
     "metadata": {},
     "output_type": "display_data"
    }
   ],
   "source": [
    "M = [5 8 7 9; 4 5 1 2; 8 7 5 0; 5 8 8 8; 45 1 2 1]\n",
    "M .* 2 # multiply all elements by two"
   ]
  },
  {
   "cell_type": "code",
   "execution_count": 60,
   "id": "1752e0e0",
   "metadata": {},
   "outputs": [
    {
     "data": {
      "text/plain": [
       "5×4 Matrix{Int64}:\n",
       " 10  16  14  18\n",
       "  8  10   2   4\n",
       " 16  14  10   0\n",
       " 10  16  16  16\n",
       " 90   2   4   2"
      ]
     },
     "metadata": {},
     "output_type": "display_data"
    }
   ],
   "source": [
    "M = [5 8 7 9; 4 5 1 2; 8 7 5 0; 5 8 8 8; 45 1 2 1]\n",
    "map(x -> 2 * x, M) # does the same thing using map"
   ]
  },
  {
   "cell_type": "markdown",
   "id": "f4eb3077",
   "metadata": {},
   "source": [
    "There are also many functions that can be used for matrices. A difference with vectors however is that you get the size of the matrix using the function `size`."
   ]
  },
  {
   "cell_type": "code",
   "execution_count": 61,
   "id": "cc5f987c",
   "metadata": {},
   "outputs": [
    {
     "name": "stdout",
     "output_type": "stream",
     "text": [
      "(5, 4)\n"
     ]
    }
   ],
   "source": [
    "M = [5 8 7 9; 4 5 1 2; 8 7 5 0; 5 8 8 8; 45 1 2 1]\n",
    "s = size(M)\n",
    "println(s)"
   ]
  },
  {
   "cell_type": "code",
   "execution_count": 62,
   "id": "b86e3967",
   "metadata": {},
   "outputs": [
    {
     "name": "stdout",
     "output_type": "stream",
     "text": [
      "5\n",
      "4\n"
     ]
    }
   ],
   "source": [
    "M = [5 8 7 9; 4 5 1 2; 8 7 5 0; 5 8 8 8; 45 1 2 1]\n",
    "s1, s2 = size(M)\n",
    "println(s1)\n",
    "println(s2)"
   ]
  },
  {
   "cell_type": "markdown",
   "id": "fd8ff446",
   "metadata": {},
   "source": [
    "Finally, you have to be careful when making copy here as well: use the `copy` function."
   ]
  },
  {
   "cell_type": "code",
   "execution_count": 63,
   "id": "df62a8f9",
   "metadata": {},
   "outputs": [
    {
     "name": "stdout",
     "output_type": "stream",
     "text": [
      "[5 8 7 9; 4 500 1 2; 8 7 5 0; 5 8 8 8; 45 1 2 1]\n",
      "[5 8 7 9; 4 500 1 2; 8 7 5 0; 5 8 8 8; 45 1 2 1]\n"
     ]
    }
   ],
   "source": [
    "# Doesn't make a real copy\n",
    "\n",
    "M = [5 8 7 9; 4 5 1 2; 8 7 5 0; 5 8 8 8; 45 1 2 1]\n",
    "Mcopy = M\n",
    "\n",
    "Mcopy[2, 2] = 500\n",
    "\n",
    "println(M)\n",
    "println(Mcopy)"
   ]
  },
  {
   "cell_type": "code",
   "execution_count": 64,
   "id": "e6ac1040",
   "metadata": {},
   "outputs": [
    {
     "name": "stdout",
     "output_type": "stream",
     "text": [
      "[5 8 7 9; 4 5 1 2; 8 7 5 0; 5 8 8 8; 45 1 2 1]\n",
      "[5 8 7 9; 4 500 1 2; 8 7 5 0; 5 8 8 8; 45 1 2 1]\n"
     ]
    }
   ],
   "source": [
    "# Makes a proper copy\n",
    "\n",
    "M = [5 8 7 9; 4 5 1 2; 8 7 5 0; 5 8 8 8; 45 1 2 1]\n",
    "Mcopy = copy(M)\n",
    "\n",
    "Mcopy[2, 2] = 500\n",
    "\n",
    "println(M)\n",
    "println(Mcopy)"
   ]
  },
  {
   "cell_type": "markdown",
   "id": "4d2f40b8",
   "metadata": {},
   "source": [
    "#### 2.2 Vectors of vectors\n",
    "\n",
    "You can also represent Matrices as Vectors containing vectors. The main advantage is that each \"row\" can have a different number of \"columns\", but some functions on matrices cannot be used anymore (e.g. the size). What is the best representation really depends on what you are trying to achieve.\n",
    "\n",
    "A vector of vector is a regular vector where each element is a vector itself. You can see that as a vector of type Vector{T}."
   ]
  },
  {
   "cell_type": "code",
   "execution_count": 65,
   "id": "01e5beba",
   "metadata": {},
   "outputs": [
    {
     "data": {
      "text/plain": [
       "3-element Vector{Vector{Int64}}:\n",
       " [2, 5, 4]\n",
       " [5, 4]\n",
       " [4, 8, 5]"
      ]
     },
     "metadata": {},
     "output_type": "display_data"
    }
   ],
   "source": [
    "M = [[2,5,4], [5,4], [4,8,5]]"
   ]
  },
  {
   "cell_type": "markdown",
   "id": "5698455f",
   "metadata": {},
   "source": [
    "Because we `M` is a vector, and each element of `M` is a vector itself, we will use double square brackets to access elements."
   ]
  },
  {
   "cell_type": "code",
   "execution_count": 66,
   "id": "108e85cb",
   "metadata": {},
   "outputs": [
    {
     "data": {
      "text/plain": [
       "4"
      ]
     },
     "metadata": {},
     "output_type": "display_data"
    }
   ],
   "source": [
    "M = [[2,5,4], [5,4], [4,8,5]]\n",
    "M[2][2]"
   ]
  },
  {
   "cell_type": "markdown",
   "id": "023e9870",
   "metadata": {},
   "source": [
    "A vector of vectors is a vector, which means that everything that we saw about vectors previously applies here!... With only one difference: the copy operator."
   ]
  },
  {
   "cell_type": "code",
   "execution_count": 67,
   "id": "7af707ba",
   "metadata": {},
   "outputs": [
    {
     "name": "stdout",
     "output_type": "stream",
     "text": [
      "[[2, 5, 4], [5, 4], [500, 8, 5]]\n",
      "[[2, 5, 4], [5, 4], [500, 8, 5]]\n"
     ]
    }
   ],
   "source": [
    "M = [[2,5,4], [5,4], [4,8,5]]\n",
    "Mcopy = copy(M)\n",
    "\n",
    "Mcopy[3][1] = 500\n",
    "\n",
    "println(M)\n",
    "println(Mcopy)"
   ]
  },
  {
   "cell_type": "markdown",
   "id": "9b8d5e2c",
   "metadata": {},
   "source": [
    "Even though we used copy, the change in only one of the vectors is applied to both... Again that's because of how vectors are represented in the computer in Julia. In this case, we use the function called `deepcopy`."
   ]
  },
  {
   "cell_type": "code",
   "execution_count": 68,
   "id": "fd7bc637",
   "metadata": {},
   "outputs": [
    {
     "name": "stdout",
     "output_type": "stream",
     "text": [
      "[[2, 5, 4], [5, 4], [4, 8, 5]]\n",
      "[[2, 5, 4], [5, 4], [500, 8, 5]]\n"
     ]
    }
   ],
   "source": [
    "M = [[2,5,4], [5,4], [4,8,5]]\n",
    "Mcopy = deepcopy(M)\n",
    "\n",
    "Mcopy[3][1] = 500\n",
    "\n",
    "println(M)\n",
    "println(Mcopy)"
   ]
  },
  {
   "cell_type": "markdown",
   "id": "8b1217ba",
   "metadata": {},
   "source": [
    "**Exercise 3**\n",
    "\n",
    "1. Create the following matrix `mymtx` :\n",
    "$\\left(\\begin{array}{cccc}\n",
    "  5 & 8 & 3 & 6 \\\\\n",
    " 10 & 4 & 6 & 1 \\\\\n",
    "  7 & 5 & 2 & 8\n",
    "\\end{array}\\right)$ \n",
    "2. assign the 3rd line of `mymtx` into a vector named `Vline`\n",
    "3. copy the 2nd column of `mymtx` into a vector named `Vcolumn`\n",
    "4. copy `mymtx` into an other matrix named `cpmtx`\n",
    "5. assign the value 0 to `cpmtx[2,3]`\n",
    "6. display `mymtx` and `cpmtx`\n",
    "7. transpose `nwmtx` (hint: check the `transpose` function) "
   ]
  },
  {
   "cell_type": "code",
   "execution_count": 69,
   "id": "8637d34a",
   "metadata": {},
   "outputs": [],
   "source": []
  },
  {
   "cell_type": "markdown",
   "id": "10f184b5",
   "metadata": {},
   "source": [
    "**Exercise 4**\n",
    "\n",
    "You have to solve an optimization model for your company. The model decides whether your company should launch a production or not in each month of the coming year. In order to run the model, you need to know the production cost and the inventory cost for each month, and forecasted demand for the coming year. You obtain the following data from the other departments:\n",
    "\n",
    "- `D = [2,1,2,4,7,10,11,11,7,2,3,4]` from the forecasting department (demand)\n",
    "- `P = [12,12,11,15,15,18,18,17,12,14,10,13]` from the production department (production cost)\n",
    "- `I = [6,5,5,5,7,8,8,10]` from the inventory department (inventory cost)\n",
    "\n",
    "\n",
    "\n",
    "For each array obtained, the first index represents January, the second is February, ect. The inventory department told you that due to a change in the warehouses, they had data available only until August. However, they will provide you with the missing data soon. \n",
    "\n",
    "1. Instead of having to manage three different arrays in your code, you prefer to merge them into a single array. Create an array `data` such that the first element is D, the second element is P, and the third element is I.\n",
    "\n",
    "2. The inventory department finally obtained the missing data and sent you the following array: `ISepDec = [7,4,4,6]`, corresponding to the inventory costs for the months of Septembre, October, November, and December. Add the newly obtained data to the inventory cost array in `data`.\n",
    "\n",
    "3. In your model, among many different variables, there are binary variables $y_i$ such that $y_i = 1$ if the production line is opened in month $i$, $y_i = 0$ otherwise. After solving the model, the solver returns you the following values for $y_i$: `y = [0.0,1.0,1.000000001,1.0000000001,0.0,-0.0000000001,0.0,0.0,0.999999999,-0.00000001,1.0,0.0]`. Although each value of `y` should be either `0` or `1`, some values are slightly above or below. This is due to the fact that computers sometimes have numerical errors. In order to present your result to the company, clean up `y` by rounding each of its elements to the nearest integer value.\n",
    "\n",
    "4. Due to changes in the market conditions, the forecast department informs you that the forecasted demand from October to December is now given by `DOctDec = [3,4,8]`. Create a copy of `data` in an array called `correctedData`, and update `correctedData` with the new demand vector.\n",
    "\n",
    "5. `data` is kept for history, and `correctedData` will be used to resolve the model. Print both `data` and `correctedData`, and make sure that `data` has a demand of `2`, `3`, and`4` for October, November and December respectively."
   ]
  },
  {
   "cell_type": "code",
   "execution_count": 70,
   "id": "fb42d048",
   "metadata": {},
   "outputs": [],
   "source": []
  },
  {
   "cell_type": "markdown",
   "id": "67d2569c",
   "metadata": {},
   "source": [
    "There are other objects that can be used to store collections of elements, such as `tuple`, `dictionary`, `set`, ect... We won't really use them in this course, but at least you know that these exist."
   ]
  }
 ],
 "metadata": {
  "kernelspec": {
   "display_name": "Julia 1.10.0",
   "language": "julia",
   "name": "julia-1.10"
  },
  "language_info": {
   "file_extension": ".jl",
   "mimetype": "application/julia",
   "name": "julia",
   "version": "1.10.0"
  }
 },
 "nbformat": 4,
 "nbformat_minor": 5
}
